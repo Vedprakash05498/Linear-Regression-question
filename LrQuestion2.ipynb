{
  "nbformat": 4,
  "nbformat_minor": 0,
  "metadata": {
    "colab": {
      "provenance": []
    },
    "kernelspec": {
      "name": "python3",
      "display_name": "Python 3"
    },
    "language_info": {
      "name": "python"
    }
  },
  "cells": [
    {
      "cell_type": "markdown",
      "source": [
        "#An example of a linear regression problem and its solution using machine learning:\n",
        "\n",
        "Problem: Suppose we have a dataset of 50 samples of a company's monthly expenses and revenue for the past year. We want to use this data to build a linear regression model that can predict the company's revenue based on its expenses.\n",
        "\n",
        "Solution:\n",
        "\n",
        "Data preparation: We start by preparing the data for our model. In this case, we have 50 samples, each containing two variables: expenses and revenue. We need to split this data into two sets: a training set and a test set. We will use the training set to train our model and the test set to evaluate its performance.\n",
        "\n",
        "Model training: We can use scikit-learn, a popular Python library for machine learning, to build and train our linear regression model. First, we import the necessary modules:\n",
        "\n"
      ],
      "metadata": {
        "id": "3hxhZ6ssIqk3"
      }
    },
    {
      "cell_type": "code",
      "source": [
        "from sklearn.linear_model import LinearRegression\n",
        "from sklearn.model_selection import train_test_split\n",
        "import pandas as pd\n"
      ],
      "metadata": {
        "id": "JjeKmx0MI0yI"
      },
      "execution_count": null,
      "outputs": []
    },
    {
      "cell_type": "markdown",
      "source": [
        "Then, we load our data into a pandas DataFrame and split it into training and test sets:"
      ],
      "metadata": {
        "id": "9VG31U1mI3d1"
      }
    },
    {
      "cell_type": "code",
      "source": [
        "df = pd.read_csv('company_data.csv')\n",
        "X = df[['expenses']]\n",
        "y = df['revenue']\n",
        "X_train, X_test, y_train, y_test = train_test_split(X, y, test_size=0.2, random_state=0)\n"
      ],
      "metadata": {
        "id": "lwl6DdX-I7TK"
      },
      "execution_count": null,
      "outputs": []
    },
    {
      "cell_type": "markdown",
      "source": [
        "Here, we are using 80% of the data for training and 20% for testing, and setting a random seed for reproducibility.\n",
        "\n",
        "Next, we create an instance of the LinearRegression class and fit it to our training data:"
      ],
      "metadata": {
        "id": "tPOiiM56I9nG"
      }
    },
    {
      "cell_type": "code",
      "source": [
        "regressor = LinearRegression()\n",
        "regressor.fit(X_train, y_train)\n"
      ],
      "metadata": {
        "id": "0AjytlKSJB6y"
      },
      "execution_count": null,
      "outputs": []
    },
    {
      "cell_type": "markdown",
      "source": [
        "Model evaluation: Once our model is trained, we can evaluate its performance on the test set. We first use it to make predictions on the test data:"
      ],
      "metadata": {
        "id": "Fu_h6MHPJFx0"
      }
    },
    {
      "cell_type": "code",
      "source": [
        "y_pred = regressor.predict(X_test)\n"
      ],
      "metadata": {
        "id": "hIKgMZq-JKgT"
      },
      "execution_count": null,
      "outputs": []
    },
    {
      "cell_type": "markdown",
      "source": [
        "Then, we can calculate the model's mean squared error (MSE) and coefficient of determination (R²) using scikit-learn's mean_squared_error and r2_score functions:"
      ],
      "metadata": {
        "id": "DbbTVPBQJNU5"
      }
    },
    {
      "cell_type": "code",
      "source": [
        "from sklearn.metrics import mean_squared_error, r2_score\n",
        "\n",
        "mse = mean_squared_error(y_test, y_pred)\n",
        "r2 = r2_score(y_test, y_pred)\n",
        "\n",
        "print(f\"Mean squared error: {mse:.2f}\")\n",
        "print(f\"Coefficient of determination (R²): {r2:.2f}\")\n"
      ],
      "metadata": {
        "id": "TJ6ftlwzJRxG"
      },
      "execution_count": null,
      "outputs": []
    },
    {
      "cell_type": "markdown",
      "source": [
        "The MSE measures the average squared difference between the predicted and actual revenue values in the test set, while R² represents the proportion of variance in the revenue variable that is explained by our model.\n",
        "\n",
        "Model deployment: Finally, we can use our trained model to make predictions on new data. For example, if we want to predict the company's revenue for a month in which its expenses are $10,000, we can call the predict method on our regressor object:"
      ],
      "metadata": {
        "id": "Elkjgw5pJT-f"
      }
    },
    {
      "cell_type": "code",
      "source": [
        "new_expenses = [[10000]]\n",
        "new_revenue = regressor.predict(new_expenses)\n",
        "\n",
        "print(f\"Predicted revenue for expenses of $10,000: ${new_revenue[0]:.2f}\")\n"
      ],
      "metadata": {
        "id": "GMfBDMByJaNW"
      },
      "execution_count": null,
      "outputs": []
    },
    {
      "cell_type": "markdown",
      "source": [
        "# This will output the predicted revenue based on our model's equation for the line of best fit.\n",
        "\n",
        "Note that this is just one example of a linear regression problem, and the specific techniques used may vary depending on the dataset and the specific requirements of the problem."
      ],
      "metadata": {
        "id": "5HvncSocJcjr"
      }
    }
  ]
}