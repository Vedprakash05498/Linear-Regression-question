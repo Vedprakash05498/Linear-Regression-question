{
  "nbformat": 4,
  "nbformat_minor": 0,
  "metadata": {
    "colab": {
      "provenance": []
    },
    "kernelspec": {
      "name": "python3",
      "display_name": "Python 3"
    },
    "language_info": {
      "name": "python"
    }
  },
  "cells": [
    {
      "cell_type": "markdown",
      "source": [
        "# linear regratios machine Learning question with sollution\n",
        "# Here's an example of a linear regression problem and its solution using Python.\n",
        "\n",
        "# Problem: Suppose we want to predict the price of a house based on its square footage. We have a dataset with information about the square footage and price of several houses. We want to build a linear regression model to predict the price of a house based on its square footage. \n",
        "\n",
        "# Solution:\n",
        "\n",
        "# First, we need to import the necessary libraries:\n"
      ],
      "metadata": {
        "id": "4oJDQwbkFpUW"
      }
    },
    {
      "cell_type": "code",
      "source": [
        "import pandas as pd\n",
        "import numpy as np\n",
        "import matplotlib.pyplot as plt\n",
        "from sklearn.linear_model import LinearRegression\n"
      ],
      "metadata": {
        "id": "jg3_s-mEGLBw"
      },
      "execution_count": null,
      "outputs": []
    },
    {
      "cell_type": "markdown",
      "source": [
        "Next, we need to load the dataset. For this example, let's assume that the dataset is in a CSV file called \"houses.csv\" and the columns are \"square_footage\" and \"price\"."
      ],
      "metadata": {
        "id": "9cjKnBnGGntN"
      }
    },
    {
      "cell_type": "code",
      "source": [
        "data = pd.read_csv(\"houses.csv\")\n"
      ],
      "metadata": {
        "id": "NNmUL0ouGpdN"
      },
      "execution_count": null,
      "outputs": []
    },
    {
      "cell_type": "markdown",
      "source": [
        "We can visualize the relationship between the square footage and price using a scatter plot:"
      ],
      "metadata": {
        "id": "TcgnN2IYGsBN"
      }
    },
    {
      "cell_type": "code",
      "source": [
        "plt.scatter(data[\"square_footage\"], data[\"price\"])\n",
        "plt.xlabel(\"Square Footage\")\n",
        "plt.ylabel(\"Price\")\n",
        "plt.show()\n"
      ],
      "metadata": {
        "id": "zuhWWunFGwFn"
      },
      "execution_count": null,
      "outputs": []
    },
    {
      "cell_type": "markdown",
      "source": [
        "From the scatter plot, we can see that there is a positive linear relationship between the square footage and price.\n",
        "\n",
        "To build the linear regression model, we need to split the dataset into training and testing sets:"
      ],
      "metadata": {
        "id": "kuHrg8fOGzSW"
      }
    },
    {
      "cell_type": "code",
      "source": [
        "from sklearn.model_selection import train_test_split\n",
        "X = data[\"square_footage\"].values.reshape(-1, 1)\n",
        "y = data[\"price\"].values.reshape(-1, 1)\n",
        "X_train, X_test, y_train, y_test = train_test_split(X, y, test_size=0.2, random_state=0)\n"
      ],
      "metadata": {
        "id": "sXDpgq_UG4xp"
      },
      "execution_count": null,
      "outputs": []
    },
    {
      "cell_type": "markdown",
      "source": [
        "Next, we can train the linear regression model using the training data:"
      ],
      "metadata": {
        "id": "p9-gaj_nG7d-"
      }
    },
    {
      "cell_type": "code",
      "source": [
        "regressor = LinearRegression()  \n",
        "regressor.fit(X_train, y_train)\n"
      ],
      "metadata": {
        "id": "qYYVa-loHDil"
      },
      "execution_count": null,
      "outputs": []
    },
    {
      "cell_type": "markdown",
      "source": [
        "We can get the slope (i.e., coefficient) and intercept of the regression line:"
      ],
      "metadata": {
        "id": "knDAzSjWHGQ4"
      }
    },
    {
      "cell_type": "code",
      "source": [
        "print(regressor.intercept_)\n",
        "print(regressor.coef_)\n"
      ],
      "metadata": {
        "id": "b0_9G6cXHK7k"
      },
      "execution_count": null,
      "outputs": []
    },
    {
      "cell_type": "markdown",
      "source": [
        "Finally, we can use the test data to evaluate the performance of the model:"
      ],
      "metadata": {
        "id": "0Nnx9OAFHNLS"
      }
    },
    {
      "cell_type": "code",
      "source": [
        "y_pred = regressor.predict(X_test)\n",
        "plt.scatter(X_test, y_test)\n",
        "plt.plot(X_test, y_pred, color='red')\n",
        "plt.xlabel(\"Square Footage\")\n",
        "plt.ylabel(\"Price\")\n",
        "plt.show()\n"
      ],
      "metadata": {
        "id": "1sguB2BnHV-2"
      },
      "execution_count": null,
      "outputs": []
    },
    {
      "cell_type": "markdown",
      "source": [
        "This will produce a scatter plot of the test data and the regression line. We can also calculate the mean squared error and R-squared score:"
      ],
      "metadata": {
        "id": "5AHo_oOlHW6Q"
      }
    },
    {
      "cell_type": "code",
      "source": [
        "from sklearn.metrics import mean_squared_error, r2_score\n",
        "mse = mean_squared_error(y_test, y_pred)\n",
        "r2 = r2_score(y_test, y_pred)\n",
        "print(\"Mean squared error:\", mse)\n",
        "print(\"R-squared score:\", r2)\n"
      ],
      "metadata": {
        "id": "j6yzOwioHc7s"
      },
      "execution_count": null,
      "outputs": []
    },
    {
      "cell_type": "markdown",
      "source": [
        "#The mean squared error and R-squared score tell us how well the model fits the data. A lower mean squared error and a higher R-squared score indicate a better fit.\n",
        "\n",
        "\n",
        "\n",
        "#"
      ],
      "metadata": {
        "id": "K0L3Y6X6Hd0k"
      }
    }
  ]
}